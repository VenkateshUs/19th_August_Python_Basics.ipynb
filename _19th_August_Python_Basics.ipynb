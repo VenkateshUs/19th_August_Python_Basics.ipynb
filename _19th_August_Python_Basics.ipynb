{
 "cells": [
  {
   "cell_type": "code",
   "execution_count": 52,
   "id": "ec15249f-1118-4445-9942-77c8ace15ef0",
   "metadata": {},
   "outputs": [
    {
     "name": "stdout",
     "output_type": "stream",
     "text": [
      "After Swapping: a =  10 , b =  5\n",
      "None\n"
     ]
    }
   ],
   "source": [
    "###Python Basics Variable\n",
    "##1. Declare two variables, `x` and `y`, and assign them integer values. Swap the values of these variables without using any temporary variable.\n",
    "\n",
    "def swap(a, b):\n",
    " \n",
    "    # Same as a = a + b\n",
    "    a = (a & b) + (a | b)\n",
    " \n",
    "    # Same as b = a - b\n",
    "    b = a + (~b) + 1\n",
    " \n",
    "    # Same as a = a - b\n",
    "    a = a + (~b) + 1\n",
    " \n",
    "    print(\"After Swapping: a = \", a, \", b = \", b)\n",
    "a = 5\n",
    "b = 10\n",
    "\n",
    "c = swap(a, b)\n",
    "print(c)\n"
   ]
  },
  {
   "cell_type": "code",
   "execution_count": 50,
   "id": "c6d867c2-e6fb-40c5-887b-2619f87afdf2",
   "metadata": {},
   "outputs": [
    {
     "name": "stdin",
     "output_type": "stream",
     "text": [
      "enter the length of rectangle 85\n",
      "enter the width of rectangle 45\n"
     ]
    },
    {
     "name": "stdout",
     "output_type": "stream",
     "text": [
      "3825\n"
     ]
    }
   ],
   "source": [
    "'''2 Create a program that calculates the area of a rectangle. Take the length and\n",
    "width as inputs from the user and store them in variables. Calculate and\n",
    "display the area.'''\n",
    "\n",
    "L = int(input('enter the length of rectangle'))\n",
    "\n",
    "w =  int(input('enter the width of rectangle'))\n",
    "\n",
    "\n",
    "A = L*w\n",
    "\n",
    "print(A)"
   ]
  },
  {
   "cell_type": "code",
   "execution_count": 53,
   "id": "5e235028-2687-4b51-98bb-f59a2b6afcd5",
   "metadata": {
    "tags": []
   },
   "outputs": [
    {
     "name": "stdin",
     "output_type": "stream",
     "text": [
      "enter temperature in  degree celsius 26\n"
     ]
    },
    {
     "name": "stdout",
     "output_type": "stream",
     "text": [
      "78\n"
     ]
    }
   ],
   "source": [
    "'''3 Write a Python program that converts temperatures from Celsius to\n",
    "Fahrenheit. Take the temperature in Celsius as input, store it in a variable,\n",
    "convert it to Fahrenheit, and display the result'''\n",
    "\n",
    "\n",
    "c = int(input(\"enter temperature in  degree celsius\"))\n",
    "f = (c * 9//5) + 32 \n",
    "# formual to convert C to F\n",
    "# f is temperature in degree Fahrenheit\n",
    "\n",
    "print(f)\n",
    "\n"
   ]
  },
  {
   "cell_type": "code",
   "execution_count": 60,
   "id": "878b0f24-6725-4c14-aaef-61f10886811a",
   "metadata": {
    "tags": []
   },
   "outputs": [
    {
     "name": "stdin",
     "output_type": "stream",
     "text": [
      "enter the name Discover your self\n"
     ]
    },
    {
     "name": "stdout",
     "output_type": "stream",
     "text": [
      "18\n"
     ]
    }
   ],
   "source": [
    "##String Based Questions\n",
    "''' 1. Write a Python program that takes a string as input and prints the length of\n",
    "the string.'''\n",
    "\n",
    "\n",
    "s = str(input('enter the name'))\n",
    "s1 = len(s)\n",
    "\n",
    "print(s1)"
   ]
  },
  {
   "cell_type": "code",
   "execution_count": 59,
   "id": "48708de6-6d63-4c4c-89f5-b1e1ccb628c8",
   "metadata": {},
   "outputs": [
    {
     "name": "stdin",
     "output_type": "stream",
     "text": [
      "enter the sentence Python Is user friendly Programming LangUage.\n"
     ]
    },
    {
     "name": "stdout",
     "output_type": "stream",
     "text": [
      "13\n"
     ]
    }
   ],
   "source": [
    "'''2. Create a program that takes a sentence from the user and counts the number\n",
    "of vowels (a, e, i, o, u) in the string.'''\n",
    "\n",
    "string = input('enter the sentence')\n",
    "vowels = \"aeiouAEIOU\"\n",
    " \n",
    "count = sum(string.count(vowel) for vowel in vowels)\n",
    "print(count)\n",
    "\n"
   ]
  },
  {
   "cell_type": "code",
   "execution_count": 43,
   "id": "005e8ad9-40c8-480d-8696-f3497ac6a803",
   "metadata": {},
   "outputs": [
    {
     "name": "stdout",
     "output_type": "stream",
     "text": [
      "eman ruoy retne\n"
     ]
    }
   ],
   "source": [
    "'''3. Given a string, reverse the order of characters using string slicing and print\n",
    "the reversed string.'''\n",
    "\n",
    "v = 'enter your name'\n",
    "s1 = v[::-1]\n",
    "print(s1)\n",
    "\n",
    "\n",
    "\n"
   ]
  },
  {
   "cell_type": "code",
   "execution_count": 37,
   "id": "5518c46e-b430-4b9c-907f-f0dc7670bf7c",
   "metadata": {},
   "outputs": [
    {
     "name": "stdin",
     "output_type": "stream",
     "text": [
      "enter the name rotator\n"
     ]
    },
    {
     "name": "stdout",
     "output_type": "stream",
     "text": [
      "It is a Palindrome\n"
     ]
    }
   ],
   "source": [
    "'''4. Write a program that takes a string as input and checks if it is a palindrome\n",
    "(reads the same forwards and backwards).'''\n",
    "\n",
    "#Define a function \n",
    "def palindrome(s):\n",
    "      if (s == s[::-1]):\n",
    "            return \"It is a Palindrome\"\n",
    "      \n",
    "      else:\n",
    "            return \"It is not a palindrome\"\n",
    "        \n",
    "        \n",
    " # driver code\n",
    "s = input('enter the name')\n",
    "print(palindrome(s))\n",
    "\n",
    "\n"
   ]
  },
  {
   "cell_type": "code",
   "execution_count": 30,
   "id": "6a783dc9-3d92-45c6-b017-caff30da2e01",
   "metadata": {
    "tags": []
   },
   "outputs": [
    {
     "name": "stdin",
     "output_type": "stream",
     "text": [
      "enter the sentence Discover your    self\n"
     ]
    },
    {
     "name": "stdout",
     "output_type": "stream",
     "text": [
      "Discoveryourself\n"
     ]
    }
   ],
   "source": [
    "'''5. Create a program that takes a string as input and removes all the spaces from\n",
    "it. Print the modified string without spaces.'''\n",
    "\n",
    "def removeSpaces(string):\n",
    "    string = string.replace(' ','')\n",
    "    return string\n",
    "     \n",
    "# Driver program\n",
    "string = str(input('enter the sentence'))\n",
    "print(removeSpaces(string))\n",
    "      \n",
    "\n"
   ]
  }
 ],
 "metadata": {
  "kernelspec": {
   "display_name": "Python 3 (ipykernel)",
   "language": "python",
   "name": "python3"
  },
  "language_info": {
   "codemirror_mode": {
    "name": "ipython",
    "version": 3
   },
   "file_extension": ".py",
   "mimetype": "text/x-python",
   "name": "python",
   "nbconvert_exporter": "python",
   "pygments_lexer": "ipython3",
   "version": "3.10.8"
  },
  "toc-showcode": false
 },
 "nbformat": 4,
 "nbformat_minor": 5
}
